{
 "cells": [
  {
   "cell_type": "code",
   "execution_count": null,
   "metadata": {
    "collapsed": true
   },
   "outputs": [],
   "source": [
    "# 一个abc.py的文件就是一个名字叫abc的模块（Module）\n",
    "# 一个xyz.py的文件就是一个名字叫xyz的模块\n",
    "# 新建一个文件夹，文件夹内包含 __init__.py，放入不同的模块\n",
    "# 这样的文件夹称为 一个包（Package）\n",
    "# 包结构可以有层级，但是每个包下必须要包含一个名为 __init__.py 的文件"
   ]
  }
 ],
 "metadata": {
  "kernelspec": {
   "display_name": "Python 3",
   "language": "python",
   "name": "python3"
  },
  "language_info": {
   "codemirror_mode": {
    "name": "ipython",
    "version": 3
   },
   "file_extension": ".py",
   "mimetype": "text/x-python",
   "name": "python",
   "nbconvert_exporter": "python",
   "pygments_lexer": "ipython3",
   "version": "3.6.1"
  }
 },
 "nbformat": 4,
 "nbformat_minor": 2
}
