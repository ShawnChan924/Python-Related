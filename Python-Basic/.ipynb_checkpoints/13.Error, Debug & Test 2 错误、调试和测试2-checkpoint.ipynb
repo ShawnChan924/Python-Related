{
 "cells": [
  {
   "cell_type": "code",
   "execution_count": 1,
   "metadata": {
    "collapsed": true
   },
   "outputs": [],
   "source": [
    "# 单元测试\n",
    "# 单元测试是用来对一个模块、一个函数或者一个类来进行正确性检验的测试工作"
   ]
  },
  {
   "cell_type": "code",
   "execution_count": 2,
   "metadata": {
    "collapsed": true
   },
   "outputs": [],
   "source": [
    "# 如果我们对abs()函数代码做了修改，只需要再跑一遍单元测试\n",
    "# 如果通过，说明我们的修改不会对abs()函数原有的行为造成影响\n",
    "# 如果测试不通过，说明我们的修改与原有行为不一致，要么修改代码，要么修改测试"
   ]
  },
  {
   "cell_type": "code",
   "execution_count": 3,
   "metadata": {
    "collapsed": true
   },
   "outputs": [],
   "source": [
    "# mydict.py"
   ]
  },
  {
   "cell_type": "code",
   "execution_count": 4,
   "metadata": {
    "collapsed": true
   },
   "outputs": [],
   "source": [
    "class Dict(dict):\n",
    "\n",
    "    def __init__(self, **kw):\n",
    "        super().__init__(**kw)\n",
    "\n",
    "    def __getattr__(self, key):\n",
    "        try:\n",
    "            return self[key]\n",
    "        except KeyError:\n",
    "            raise AttributeError(r\"'Dict' object has no attribute '%s'\" % key)\n",
    "\n",
    "    def __setattr__(self, key, value):\n",
    "        self[key] = value"
   ]
  },
  {
   "cell_type": "code",
   "execution_count": 5,
   "metadata": {
    "collapsed": true
   },
   "outputs": [],
   "source": [
    "# mydict_test.py"
   ]
  },
  {
   "cell_type": "code",
   "execution_count": 6,
   "metadata": {
    "collapsed": true
   },
   "outputs": [],
   "source": [
    "import unittest"
   ]
  },
  {
   "cell_type": "code",
   "execution_count": 11,
   "metadata": {},
   "outputs": [],
   "source": [
    "# 编写单元测试时，我们需要编写一个测试类，从unittest.TestCase继承\n",
    "class TestDict(unittest.TestCase):\n",
    "    def test_init(self):\n",
    "        self.assertEqual(abs(-1), 1) # 断言函数返回的结果与1相等\n",
    "    \n",
    "    def test_key(self):\n",
    "        pass\n",
    "    \n",
    "    def test_attr(self):\n",
    "        pass\n",
    "    \n",
    "    def test_keyerror(self):\n",
    "        pass\n",
    "    \n",
    "    def test_attreeror(self):\n",
    "        pass"
   ]
  },
  {
   "cell_type": "code",
   "execution_count": 12,
   "metadata": {},
   "outputs": [],
   "source": [
    "# 由于unittest.TestCase提供了很多内置的条件判断\n",
    "# 我们只需要调用这些方法就可以断言输出是否是我们所期望的\n",
    "# 最常用的断言就是assertEqual()\n",
    "\n",
    "# 另一种重要的断言就是期待抛出指定类型的Error\n",
    "# assertRaises(KeyError)\n",
    "\n",
    "# 访问不存在的key时，我们期待抛出AttributeError\n",
    "# assertRaises(AttribtuteError)"
   ]
  },
  {
   "cell_type": "code",
   "execution_count": 13,
   "metadata": {
    "collapsed": true
   },
   "outputs": [],
   "source": [
    "# 运行单元测试"
   ]
  },
  {
   "cell_type": "code",
   "execution_count": 15,
   "metadata": {
    "collapsed": true
   },
   "outputs": [],
   "source": [
    "# 最简单的单元测试py运行方式是在mydict_test.py的最后加上两行代码：\n",
    "# if __name__ == '__main__':\n",
    "#    unittest.main()\n",
    "\n",
    "# 随后执行\n",
    "# python3 mydict_test.py"
   ]
  },
  {
   "cell_type": "code",
   "execution_count": 16,
   "metadata": {
    "collapsed": true
   },
   "outputs": [],
   "source": [
    "# 可以在单元测试中编写两个特殊的setUp()和tearDown()方法\n",
    "# 这两个方法会分别在每调用一个测试方法的前后分别被执行"
   ]
  },
  {
   "cell_type": "code",
   "execution_count": 17,
   "metadata": {
    "collapsed": true
   },
   "outputs": [],
   "source": [
    "# setUp()和tearDown()方法有什么用呢？\n",
    "# 设想你的测试需要启动一个数据库，这时，就可以在setUp()方法中连接数据库\n",
    "# 在tearDown()方法中关闭数据库\n",
    "# 这样，不必在每个测试方法中重复相同的代码"
   ]
  },
  {
   "cell_type": "code",
   "execution_count": 18,
   "metadata": {
    "collapsed": true
   },
   "outputs": [],
   "source": [
    "class TestDict(unittest.TestCase):\n",
    "    def setUp(self):\n",
    "        print('Open DataBase...')\n",
    "        \n",
    "    def tearDown(self):\n",
    "        print('Close DataBase...')"
   ]
  },
  {
   "cell_type": "code",
   "execution_count": 19,
   "metadata": {
    "collapsed": true
   },
   "outputs": [],
   "source": [
    "# ===============分割线==============="
   ]
  },
  {
   "cell_type": "code",
   "execution_count": 20,
   "metadata": {
    "collapsed": true
   },
   "outputs": [],
   "source": [
    "# 文档测试\n",
    "# 在定义数据结构时写清楚测试代码\n",
    "# 在 ''' ''' 中写下内容"
   ]
  },
  {
   "cell_type": "code",
   "execution_count": 21,
   "metadata": {
    "collapsed": true
   },
   "outputs": [],
   "source": [
    "def abs(n):\n",
    "    '''\n",
    "    Function to get absolute value of number.\n",
    "\n",
    "    Example:\n",
    "\n",
    "    >>> abs(1)\n",
    "    1\n",
    "    >>> abs(-1)\n",
    "    1\n",
    "    >>> abs(0)\n",
    "    0\n",
    "    '''\n",
    "    return n if n >= 0 else (-n)"
   ]
  },
  {
   "cell_type": "code",
   "execution_count": 22,
   "metadata": {
    "collapsed": true
   },
   "outputs": [],
   "source": [
    "# doctest非常有用，不但可以用来测试，还可以直接作为示例代码"
   ]
  }
 ],
 "metadata": {
  "kernelspec": {
   "display_name": "Python 3",
   "language": "python",
   "name": "python3"
  },
  "language_info": {
   "codemirror_mode": {
    "name": "ipython",
    "version": 3
   },
   "file_extension": ".py",
   "mimetype": "text/x-python",
   "name": "python",
   "nbconvert_exporter": "python",
   "pygments_lexer": "ipython3",
   "version": "3.6.1"
  }
 },
 "nbformat": 4,
 "nbformat_minor": 2
}
