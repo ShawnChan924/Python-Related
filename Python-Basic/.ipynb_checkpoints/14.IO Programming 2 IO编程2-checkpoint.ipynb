{
 "cells": [
  {
   "cell_type": "code",
   "execution_count": 1,
   "metadata": {
    "collapsed": true
   },
   "outputs": [],
   "source": [
    "# StringIO\n",
    "# 从内存中读写str"
   ]
  },
  {
   "cell_type": "code",
   "execution_count": 2,
   "metadata": {
    "collapsed": true
   },
   "outputs": [],
   "source": [
    "from io import StringIO"
   ]
  },
  {
   "cell_type": "code",
   "execution_count": 3,
   "metadata": {},
   "outputs": [
    {
     "data": {
      "text/plain": [
       "5"
      ]
     },
     "execution_count": 3,
     "metadata": {},
     "output_type": "execute_result"
    }
   ],
   "source": [
    "f = StringIO()\n",
    "f.write('hello')"
   ]
  },
  {
   "cell_type": "code",
   "execution_count": 4,
   "metadata": {},
   "outputs": [
    {
     "data": {
      "text/plain": [
       "1"
      ]
     },
     "execution_count": 4,
     "metadata": {},
     "output_type": "execute_result"
    }
   ],
   "source": [
    "f.write(' ')"
   ]
  },
  {
   "cell_type": "code",
   "execution_count": 5,
   "metadata": {},
   "outputs": [
    {
     "data": {
      "text/plain": [
       "6"
      ]
     },
     "execution_count": 5,
     "metadata": {},
     "output_type": "execute_result"
    }
   ],
   "source": [
    "f.write('world！')"
   ]
  },
  {
   "cell_type": "code",
   "execution_count": 6,
   "metadata": {},
   "outputs": [
    {
     "name": "stdout",
     "output_type": "stream",
     "text": [
      "hello world！\n"
     ]
    }
   ],
   "source": [
    "print(f.getvalue()) # getvalue()方法用于获得写入后的str"
   ]
  },
  {
   "cell_type": "code",
   "execution_count": 7,
   "metadata": {
    "collapsed": true
   },
   "outputs": [],
   "source": [
    "# 读取StringIO"
   ]
  },
  {
   "cell_type": "code",
   "execution_count": 8,
   "metadata": {},
   "outputs": [
    {
     "name": "stdout",
     "output_type": "stream",
     "text": [
      "Hello!\n",
      "Hi!\n",
      "Goodbye!\n"
     ]
    }
   ],
   "source": [
    "f = StringIO('Hello!\\nHi!\\nGoodbye!\\n')\n",
    "while True:\n",
    "    s = f.readline()\n",
    "    if s == '':\n",
    "        break\n",
    "    print(s.strip())"
   ]
  },
  {
   "cell_type": "code",
   "execution_count": 9,
   "metadata": {},
   "outputs": [
    {
     "name": "stdout",
     "output_type": "stream",
     "text": [
      "Hello!\n",
      "\n",
      "Hi!\n",
      "\n",
      "Goodbye!\n",
      "\n"
     ]
    }
   ],
   "source": [
    "f = StringIO('Hello!\\nHi!\\nGoodbye!\\n')\n",
    "for line in f.readlines():\n",
    "    print(line)"
   ]
  },
  {
   "cell_type": "code",
   "execution_count": 10,
   "metadata": {
    "collapsed": true
   },
   "outputs": [],
   "source": [
    "# BytesIO\n",
    "# StringIO操作的对象只能是str，如果要操作二进制数据，就需要使用BytesIO"
   ]
  },
  {
   "cell_type": "code",
   "execution_count": 11,
   "metadata": {
    "collapsed": true
   },
   "outputs": [],
   "source": [
    "from io import BytesIO"
   ]
  },
  {
   "cell_type": "code",
   "execution_count": 12,
   "metadata": {},
   "outputs": [
    {
     "data": {
      "text/plain": [
       "6"
      ]
     },
     "execution_count": 12,
     "metadata": {},
     "output_type": "execute_result"
    }
   ],
   "source": [
    "f = BytesIO()\n",
    "f.write('中文'.encode('utf-8'))"
   ]
  },
  {
   "cell_type": "code",
   "execution_count": 13,
   "metadata": {},
   "outputs": [
    {
     "name": "stdout",
     "output_type": "stream",
     "text": [
      "b'\\xe4\\xb8\\xad\\xe6\\x96\\x87'\n"
     ]
    }
   ],
   "source": [
    "print(f.getvalue())"
   ]
  },
  {
   "cell_type": "code",
   "execution_count": 14,
   "metadata": {
    "collapsed": true
   },
   "outputs": [],
   "source": [
    "# 初始化BytesIO()"
   ]
  },
  {
   "cell_type": "code",
   "execution_count": 15,
   "metadata": {},
   "outputs": [
    {
     "data": {
      "text/plain": [
       "b'\\xe4\\xb8\\xad\\xe6\\x96\\x87'"
      ]
     },
     "execution_count": 15,
     "metadata": {},
     "output_type": "execute_result"
    }
   ],
   "source": [
    "f = BytesIO(b'\\xe4\\xb8\\xad\\xe6\\x96\\x87')\n",
    "f.read()"
   ]
  },
  {
   "cell_type": "code",
   "execution_count": 16,
   "metadata": {
    "collapsed": true
   },
   "outputs": [],
   "source": [
    "# =========分隔线========="
   ]
  },
  {
   "cell_type": "code",
   "execution_count": 17,
   "metadata": {
    "collapsed": true
   },
   "outputs": [],
   "source": [
    "# 操作文件和目录"
   ]
  },
  {
   "cell_type": "code",
   "execution_count": 18,
   "metadata": {
    "collapsed": true
   },
   "outputs": [],
   "source": [
    "# 在Python程序中执行这些目录和文件的操作\n",
    "# Python内置的os模块也可以直接调用操作系统提供的接口函数"
   ]
  },
  {
   "cell_type": "code",
   "execution_count": 19,
   "metadata": {},
   "outputs": [
    {
     "data": {
      "text/plain": [
       "'posix'"
      ]
     },
     "execution_count": 19,
     "metadata": {},
     "output_type": "execute_result"
    }
   ],
   "source": [
    "import os\n",
    "os.name\n",
    "# 如果是posix，说明系统是Linux、Unix或Mac OS X，如果是nt，就是Windows系统"
   ]
  },
  {
   "cell_type": "code",
   "execution_count": 20,
   "metadata": {},
   "outputs": [
    {
     "data": {
      "text/plain": [
       "posix.uname_result(sysname='Linux', nodename='WTH5401458', release='4.2.0-42-generic', version='#49~14.04.1-Ubuntu SMP Wed Jun 29 20:22:11 UTC 2016', machine='x86_64')"
      ]
     },
     "execution_count": 20,
     "metadata": {},
     "output_type": "execute_result"
    }
   ],
   "source": [
    "# 获取详细系统信息\n",
    "os.uname()"
   ]
  },
  {
   "cell_type": "code",
   "execution_count": 21,
   "metadata": {},
   "outputs": [
    {
     "data": {
      "text/plain": [
       "environ({'LC_PAPER': 'zh_CN.UTF-8', 'XDG_VTNR': '7', 'CPLUS_INCLUDE_PATH': ':/opt/Qt5.5.1/5.5/gcc_64/include:/opt/Qt5.5.1/5.5/Src/qtbase/include/QtOpenGL', 'LC_ADDRESS': 'zh_CN.UTF-8', 'XDG_SESSION_ID': 'c2', 'CLUTTER_IM_MODULE': 'xim', 'XDG_GREETER_DATA_DIR': '/var/lib/lightdm-data/igs', 'SELINUX_INIT': 'YES', 'LC_MONETARY': 'zh_CN.UTF-8', 'SESSION': 'ubuntu', 'GPG_AGENT_INFO': '/run/user/1000/keyring-j1tcpL/gpg:0:1', 'VTE_VERSION': '3409', 'SHELL': '/bin/bash', 'XDG_MENU_PREFIX': 'gnome-', 'TERM': 'xterm-color', 'ROS_ROOT': '/opt/ros/jade/share/ros', 'ROS_PACKAGE_PATH': '/program/catkin_ws/src:/opt/ros/jade/share:/opt/ros/jade/stacks', 'LIBRARY_PATH': ':/opt/Qt5.5.1/5.5/gcc_64/lib', 'ROS_MASTER_URI': 'http://localhost:11311', 'LC_NUMERIC': 'zh_CN.UTF-8', 'WINDOWID': '67108876', 'UPSTART_SESSION': 'unix:abstract=/com/ubuntu/upstart-session/1000/24366', 'GNOME_KEYRING_CONTROL': '/run/user/1000/keyring-j1tcpL', 'GTK_MODULES': 'overlay-scrollbar:unity-gtk-module', 'USER': 'igs', 'LS_COLORS': 'rs=0:di=01;34:ln=01;36:mh=00:pi=40;33:so=01;35:do=01;35:bd=40;33;01:cd=40;33;01:or=40;31;01:su=37;41:sg=30;43:ca=30;41:tw=30;42:ow=34;42:st=37;44:ex=01;32:*.tar=01;31:*.tgz=01;31:*.arj=01;31:*.taz=01;31:*.lzh=01;31:*.lzma=01;31:*.tlz=01;31:*.txz=01;31:*.zip=01;31:*.z=01;31:*.Z=01;31:*.dz=01;31:*.gz=01;31:*.lz=01;31:*.xz=01;31:*.bz2=01;31:*.bz=01;31:*.tbz=01;31:*.tbz2=01;31:*.tz=01;31:*.deb=01;31:*.rpm=01;31:*.jar=01;31:*.war=01;31:*.ear=01;31:*.sar=01;31:*.rar=01;31:*.ace=01;31:*.zoo=01;31:*.cpio=01;31:*.7z=01;31:*.rz=01;31:*.jpg=01;35:*.jpeg=01;35:*.gif=01;35:*.bmp=01;35:*.pbm=01;35:*.pgm=01;35:*.ppm=01;35:*.tga=01;35:*.xbm=01;35:*.xpm=01;35:*.tif=01;35:*.tiff=01;35:*.png=01;35:*.svg=01;35:*.svgz=01;35:*.mng=01;35:*.pcx=01;35:*.mov=01;35:*.mpg=01;35:*.mpeg=01;35:*.m2v=01;35:*.mkv=01;35:*.webm=01;35:*.ogm=01;35:*.mp4=01;35:*.m4v=01;35:*.mp4v=01;35:*.vob=01;35:*.qt=01;35:*.nuv=01;35:*.wmv=01;35:*.asf=01;35:*.rm=01;35:*.rmvb=01;35:*.flc=01;35:*.avi=01;35:*.fli=01;35:*.flv=01;35:*.gl=01;35:*.dl=01;35:*.xcf=01;35:*.xwd=01;35:*.yuv=01;35:*.cgm=01;35:*.emf=01;35:*.axv=01;35:*.anx=01;35:*.ogv=01;35:*.ogx=01;35:*.aac=00;36:*.au=00;36:*.flac=00;36:*.mid=00;36:*.midi=00;36:*.mka=00;36:*.mp3=00;36:*.mpc=00;36:*.ogg=00;36:*.ra=00;36:*.wav=00;36:*.axa=00;36:*.oga=00;36:*.spx=00;36:*.xspf=00;36:', 'LC_TELEPHONE': 'zh_CN.UTF-8', 'LD_LIBRARY_PATH': '/usr/local/cuda-8.0/lib64:/program/catkin_ws/devel/lib:/opt/ros/jade/lib::/opt/Qt5.5.1/5.5/gcc_64/lib', 'XDG_SESSION_PATH': '/org/freedesktop/DisplayManager/Session0', 'XDG_SEAT_PATH': '/org/freedesktop/DisplayManager/Seat0', 'CPATH': '/opt/ros/jade/include', 'SSH_AUTH_SOCK': '/run/user/1000/keyring-j1tcpL/ssh', 'SESSION_MANAGER': 'local/WTH5401458:@/tmp/.ICE-unix/24510,unix/WTH5401458:/tmp/.ICE-unix/24510', 'DEFAULTS_PATH': '/usr/share/gconf/ubuntu.default.path', 'XDG_CONFIG_DIRS': '/etc/xdg/xdg-ubuntu:/usr/share/upstart/xdg:/etc/xdg', 'PATH': '/home/igs/anaconda3/bin:/home/igs/anaconda3/bin:/usr/local/cuda-8.0/bin:/opt/ros/jade/bin:/usr/local/sbin:/usr/local/bin:/usr/sbin:/usr/bin:/sbin:/bin:/usr/games:/usr/local/games:/usr/local/ccViewer:/usr/local/CloudCompare:/opt/Qt5.5.1/Tools/QtCreator/bin:/opt/eclipse', 'DESKTOP_SESSION': 'ubuntu', 'QT_IM_MODULE': 'fcitx', 'QT_QPA_PLATFORMTHEME': 'appmenu-qt5', 'LC_IDENTIFICATION': 'zh_CN.UTF-8', 'JOB': 'dbus', 'PWD': '/home/igs/Videos/Python-Related/Python-Basic', 'XMODIFIERS': '@im=fcitx', 'LANG': 'en_US.UTF-8', 'GNOME_KEYRING_PID': '24364', 'GDM_LANG': 'en_US', 'MANDATORY_PATH': '/usr/share/gconf/ubuntu.mandatory.path', 'LC_MEASUREMENT': 'zh_CN.UTF-8', 'IM_CONFIG_PHASE': '1', 'COMPIZ_CONFIG_PROFILE': 'ubuntu', 'ROSLISP_PACKAGE_DIRECTORIES': '/program/catkin_ws/devel/share/common-lisp', 'GDMSESSION': 'ubuntu', 'SESSIONTYPE': 'gnome-session', 'HOME': '/home/igs', 'SHLVL': '1', 'XDG_SEAT': 'seat0', 'ROS_DISTRO': 'jade', 'LANGUAGE': 'en_US', 'GNOME_DESKTOP_SESSION_ID': 'this-is-deprecated', 'PYTHONPATH': '/opt/ros/jade/lib/python2.7/dist-packages', 'LOGNAME': 'igs', 'XDG_DATA_DIRS': '/usr/share/ubuntu:/usr/share/gnome:/usr/local/share/:/usr/share/', 'DBUS_SESSION_BUS_ADDRESS': 'unix:abstract=/tmp/dbus-SP88Kd2atw', 'QT4_IM_MODULE': 'fcitx', 'PKG_CONFIG_PATH': '/opt/ros/jade/lib/pkgconfig', 'LESSOPEN': '| /usr/bin/lesspipe %s', 'INSTANCE': '', 'TEXTDOMAIN': 'im-config', 'CMAKE_PREFIX_PATH': '/program/catkin_ws/devel:/opt/ros/jade::/opt/Qt5.5.1/5.5/gcc_64/lib/cmake', 'DISPLAY': ':0.0', 'XDG_RUNTIME_DIR': '/run/user/1000', 'XDG_CURRENT_DESKTOP': 'Unity', 'GTK_IM_MODULE': 'fcitx', 'LESSCLOSE': '/usr/bin/lesspipe %s %s', 'LC_TIME': 'zh_CN.UTF-8', 'TEXTDOMAINDIR': '/usr/share/locale/', 'ROS_ETC_DIR': '/opt/ros/jade/etc/ros', 'LC_NAME': 'zh_CN.UTF-8', 'XAUTHORITY': '/home/igs/.Xauthority', 'COLORTERM': 'gnome-terminal', '_': '/home/igs/anaconda3/bin/jupyter', 'JPY_PARENT_PID': '19928', 'CLICOLOR': '1', 'PAGER': 'cat', 'GIT_PAGER': 'cat', 'MPLBACKEND': 'module://ipykernel.pylab.backend_inline'})"
      ]
     },
     "execution_count": 21,
     "metadata": {},
     "output_type": "execute_result"
    }
   ],
   "source": [
    "# 系统定义的环境变量\n",
    "os.environ"
   ]
  },
  {
   "cell_type": "code",
   "execution_count": 23,
   "metadata": {},
   "outputs": [
    {
     "data": {
      "text/plain": [
       "'/home/igs/anaconda3/bin:/home/igs/anaconda3/bin:/usr/local/cuda-8.0/bin:/opt/ros/jade/bin:/usr/local/sbin:/usr/local/bin:/usr/sbin:/usr/bin:/sbin:/bin:/usr/games:/usr/local/games:/usr/local/ccViewer:/usr/local/CloudCompare:/opt/Qt5.5.1/Tools/QtCreator/bin:/opt/eclipse'"
      ]
     },
     "execution_count": 23,
     "metadata": {},
     "output_type": "execute_result"
    }
   ],
   "source": [
    "# 获取某个环境变量的值，可以调用 os.environ.get('key')\n",
    "os.environ.get('PATH')"
   ]
  },
  {
   "cell_type": "code",
   "execution_count": 24,
   "metadata": {
    "collapsed": true
   },
   "outputs": [],
   "source": [
    "# 操作文件和目录"
   ]
  },
  {
   "cell_type": "code",
   "execution_count": 25,
   "metadata": {},
   "outputs": [
    {
     "data": {
      "text/plain": [
       "'/home/igs/Videos/Python-Related/Python-Basic'"
      ]
     },
     "execution_count": 25,
     "metadata": {},
     "output_type": "execute_result"
    }
   ],
   "source": [
    "# 查看当前目录的绝对路径\n",
    "os.path.abspath('.')"
   ]
  },
  {
   "cell_type": "code",
   "execution_count": 26,
   "metadata": {},
   "outputs": [
    {
     "data": {
      "text/plain": [
       "'/home/igs/Videos/Python-Related'"
      ]
     },
     "execution_count": 26,
     "metadata": {},
     "output_type": "execute_result"
    }
   ],
   "source": [
    "os.path.abspath('..')"
   ]
  },
  {
   "cell_type": "code",
   "execution_count": 27,
   "metadata": {},
   "outputs": [
    {
     "data": {
      "text/plain": [
       "'./test'"
      ]
     },
     "execution_count": 27,
     "metadata": {},
     "output_type": "execute_result"
    }
   ],
   "source": [
    "# 在某个目录下创建一个新目录\n",
    "os.path.join('.','test')"
   ]
  },
  {
   "cell_type": "code",
   "execution_count": 28,
   "metadata": {
    "collapsed": true
   },
   "outputs": [],
   "source": [
    "# 创建一个目录\n",
    "os.mkdir('./test')"
   ]
  },
  {
   "cell_type": "code",
   "execution_count": 29,
   "metadata": {
    "collapsed": true
   },
   "outputs": [],
   "source": [
    "# 删除一个目录\n",
    "os.rmdir('./test/')"
   ]
  },
  {
   "cell_type": "code",
   "execution_count": 30,
   "metadata": {
    "collapsed": true
   },
   "outputs": [],
   "source": [
    "# 把两个路径合成一个时，不要直接拼字符串\n",
    "# 因为Linux下这样表示：part-1/part-2\n",
    "# 而Windows下这样表示：part-1\\part-2\n",
    "# 使用os.path.join()会根据操作系统调用对应的斜杠"
   ]
  },
  {
   "cell_type": "code",
   "execution_count": 34,
   "metadata": {
    "collapsed": true
   },
   "outputs": [],
   "source": [
    "# 同理，拆路径时，也不要直接用字符串的方式拆\n",
    "# 使用 os.path.split() 函数 可以得到最后级别的目录或文件名"
   ]
  },
  {
   "cell_type": "code",
   "execution_count": 33,
   "metadata": {},
   "outputs": [
    {
     "data": {
      "text/plain": [
       "('/home/igs/Videos/Python-Related/Python-Basic', 'README.md')"
      ]
     },
     "execution_count": 33,
     "metadata": {},
     "output_type": "execute_result"
    }
   ],
   "source": [
    "os.path.split('/home/igs/Videos/Python-Related/Python-Basic/README.md')"
   ]
  },
  {
   "cell_type": "code",
   "execution_count": 35,
   "metadata": {
    "collapsed": true
   },
   "outputs": [],
   "source": [
    "# 使用 os.path.splittext() 函数 可以得到文件的扩展名"
   ]
  },
  {
   "cell_type": "code",
   "execution_count": 36,
   "metadata": {},
   "outputs": [
    {
     "data": {
      "text/plain": [
       "('/home/igs/Videos/Python-Related/Python-Basic/', '')"
      ]
     },
     "execution_count": 36,
     "metadata": {},
     "output_type": "execute_result"
    }
   ],
   "source": [
    "os.path.splitext('/home/igs/Videos/Python-Related/Python-Basic/')"
   ]
  },
  {
   "cell_type": "code",
   "execution_count": 37,
   "metadata": {},
   "outputs": [
    {
     "data": {
      "text/plain": [
       "('/home/igs/Videos/Python-Related/Python-Basic/README', '.md')"
      ]
     },
     "execution_count": 37,
     "metadata": {},
     "output_type": "execute_result"
    }
   ],
   "source": [
    "os.path.splitext('/home/igs/Videos/Python-Related/Python-Basic/README.md')"
   ]
  },
  {
   "cell_type": "code",
   "execution_count": 38,
   "metadata": {
    "collapsed": true
   },
   "outputs": [],
   "source": [
    "# 文件重命名\n",
    "# os.rename('test.txt', 'test.py')\n",
    "# 文件删除\n",
    "# os.remove('test.py')"
   ]
  },
  {
   "cell_type": "code",
   "execution_count": 39,
   "metadata": {
    "collapsed": true
   },
   "outputs": [],
   "source": [
    "# 复制函数在os模块中不存在，因为复制文件并非由操作系统提供\n",
    "# shutil模块提供了copyfile()的函数，是os模块的补充"
   ]
  },
  {
   "cell_type": "code",
   "execution_count": 42,
   "metadata": {},
   "outputs": [
    {
     "data": {
      "text/plain": [
       "['.ipynb_checkpoints']"
      ]
     },
     "execution_count": 42,
     "metadata": {},
     "output_type": "execute_result"
    }
   ],
   "source": [
    "# 利用Python的特性来过滤文件\n",
    "# 我们要列出某一目录下的所有目录，只需要一行代码\n",
    "[x for x in os.listdir('.') if os.path.isdir(x)]"
   ]
  },
  {
   "cell_type": "code",
   "execution_count": 44,
   "metadata": {},
   "outputs": [],
   "source": [
    "# 列出所有的.py文件\n",
    "f = [x for x in os.listdir('.') if os.path.isfile(x) and os.path.splitext(x)[1]=='.ipynb']"
   ]
  },
  {
   "cell_type": "code",
   "execution_count": 45,
   "metadata": {
    "collapsed": true
   },
   "outputs": [],
   "source": [
    "f.sort()"
   ]
  },
  {
   "cell_type": "code",
   "execution_count": 46,
   "metadata": {},
   "outputs": [
    {
     "name": "stdout",
     "output_type": "stream",
     "text": [
      "['1.input & output 输入和输出.ipynb', '10.Module 模块.ipynb', '11.面向对象编程 OOP.ipynb', '11.面向对象编程2 OOP2.ipynb', '11.面向对象编程3 OOP3.ipynb', '12.OOP Advanced Programming1 面向对象高级编程1.ipynb', '12.OOP Advanced Programming2 面向对象高级编程2.ipynb', '13.Error, Debug & Test 1 错误、调试和测试1.ipynb', '13.Error, Debug & Test 2 错误、调试和测试2.ipynb', '14.IO Programming 1 IO编程1.ipynb', '14.IO Programming 2 IO编程2.ipynb', '2.data type and variable 数据类型和变量.ipynb', '3.string & encode 字符串和编码.ipynb', '4.Using list & tuple 使用list和tuple.ipynb', '5. if & while 条件判断和循环.ipynb', '6.Using dict & set 使用dict和set.ipynb', '7.Function 函数.ipynb', '8.Advanced Features 高级特性.ipynb', '9.Functional Programming 函数式编程.ipynb', '9.Functional Programming2 函数式编程2.ipynb']\n"
     ]
    }
   ],
   "source": [
    "print(f)"
   ]
  },
  {
   "cell_type": "code",
   "execution_count": 47,
   "metadata": {
    "collapsed": true
   },
   "outputs": [],
   "source": [
    "# =========分隔线========="
   ]
  },
  {
   "cell_type": "code",
   "execution_count": 48,
   "metadata": {
    "collapsed": true
   },
   "outputs": [],
   "source": [
    "# 序列化"
   ]
  },
  {
   "cell_type": "code",
   "execution_count": 49,
   "metadata": {
    "collapsed": true
   },
   "outputs": [],
   "source": [
    "# 把变量从内存中变成可存储或传输的过程称之为序列化\n",
    "# 序列化之后，就可以把序列化后的内容写入磁盘，或者通过网络传输到别的机器上"
   ]
  },
  {
   "cell_type": "code",
   "execution_count": 50,
   "metadata": {},
   "outputs": [
    {
     "data": {
      "text/plain": [
       "b'\\x80\\x03}q\\x00(X\\x04\\x00\\x00\\x00nameq\\x01X\\x03\\x00\\x00\\x00Bobq\\x02X\\x03\\x00\\x00\\x00ageq\\x03K\\x14X\\x05\\x00\\x00\\x00scoreq\\x04KXu.'"
      ]
     },
     "execution_count": 50,
     "metadata": {},
     "output_type": "execute_result"
    }
   ],
   "source": [
    "# 尝试把一个对象序列化并写入文件：\n",
    "import pickle\n",
    "d = dict(name='Bob', age=20, score=88)\n",
    "pickle.dumps(d)"
   ]
  },
  {
   "cell_type": "code",
   "execution_count": 55,
   "metadata": {},
   "outputs": [],
   "source": [
    "# pickle.dumps()方法把任意对象序列化成一个bytes,就可以把这个bytes写入文件\n",
    "# 用另一个方法pickle.dump()直接把对象序列化后写入一个file-like Object\n",
    "f = open('/home/igs/Desktop/dump.txt', 'wb')\n",
    "pickle.dump(d, f)\n",
    "f.close()"
   ]
  },
  {
   "cell_type": "code",
   "execution_count": 56,
   "metadata": {
    "collapsed": true
   },
   "outputs": [],
   "source": [
    "# 用 pickle.loads() 方法反序列化出对象\n",
    "f = open('/home/igs/Desktop/dump.txt', 'rb')\n",
    "d = pickle.load(f)\n",
    "f.close()"
   ]
  },
  {
   "cell_type": "code",
   "execution_count": 57,
   "metadata": {},
   "outputs": [
    {
     "data": {
      "text/plain": [
       "{'age': 20, 'name': 'Bob', 'score': 88}"
      ]
     },
     "execution_count": 57,
     "metadata": {},
     "output_type": "execute_result"
    }
   ],
   "source": [
    "d"
   ]
  },
  {
   "cell_type": "code",
   "execution_count": 58,
   "metadata": {
    "collapsed": true
   },
   "outputs": [],
   "source": [
    "# 把对象序列化为标准格式，比如XML，但更好的方法是序列化为JSON\n",
    "# JSON不仅是标准格式，并且比XML更快，而且可以直接在Web页面中读取，非常方便"
   ]
  },
  {
   "cell_type": "code",
   "execution_count": 59,
   "metadata": {},
   "outputs": [
    {
     "data": {
      "text/plain": [
       "'{\"name\": \"Bob\", \"age\": 20, \"score\": 88}'"
      ]
     },
     "execution_count": 59,
     "metadata": {},
     "output_type": "execute_result"
    }
   ],
   "source": [
    "import json\n",
    "d = dict(name='Bob', age=20, score=88)\n",
    "json.dumps(d)"
   ]
  },
  {
   "cell_type": "code",
   "execution_count": 60,
   "metadata": {},
   "outputs": [
    {
     "data": {
      "text/plain": [
       "{'age': 20, 'name': 'Bob', 'score': 88}"
      ]
     },
     "execution_count": 60,
     "metadata": {},
     "output_type": "execute_result"
    }
   ],
   "source": [
    "# 要把JSON反序列化为Python对象，用loads()或者对应的load()方法\n",
    "# 前者把JSON的字符串反序列化，后者从file-like Object中读取字符串并反序列化\n",
    "json_str = '{\"age\": 20, \"score\": 88, \"name\": \"Bob\"}'\n",
    "json.loads(json_str)"
   ]
  },
  {
   "cell_type": "code",
   "execution_count": null,
   "metadata": {
    "collapsed": true
   },
   "outputs": [],
   "source": [
    "# Python语言特定的序列化模块是pickle\n",
    "# 如果要把序列化搞得更通用、更符合Web标准，就可以使用json模块。"
   ]
  }
 ],
 "metadata": {
  "kernelspec": {
   "display_name": "Python 3",
   "language": "python",
   "name": "python3"
  },
  "language_info": {
   "codemirror_mode": {
    "name": "ipython",
    "version": 3
   },
   "file_extension": ".py",
   "mimetype": "text/x-python",
   "name": "python",
   "nbconvert_exporter": "python",
   "pygments_lexer": "ipython3",
   "version": "3.6.1"
  }
 },
 "nbformat": 4,
 "nbformat_minor": 2
}
