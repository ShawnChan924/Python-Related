{
 "cells": [
  {
   "cell_type": "code",
   "execution_count": 1,
   "metadata": {
    "collapsed": true
   },
   "outputs": [],
   "source": [
    "# 一个abc.py的文件就是一个名字叫abc的模块（Module）\n",
    "# 一个xyz.py的文件就是一个名字叫xyz的模块\n",
    "# 新建一个文件夹，文件夹内包含 __init__.py，放入不同的模块\n",
    "# 这样的文件夹称为 一个包（Package）\n",
    "# 包结构可以有层级，但是每个包下必须要包含一个名为 __init__.py 的文件"
   ]
  },
  {
   "cell_type": "code",
   "execution_count": 2,
   "metadata": {
    "collapsed": true
   },
   "outputs": [],
   "source": [
    "# Python内置很多模块，如 sys 如下例子：\n",
    "# 第1行和第2行是标准注释，第1行注释可以让这个文件直接在Unix/Linux/Mac上运行\n",
    "# 第2行注释表示.py文件本身使用标准UTF-8编码；"
   ]
  },
  {
   "cell_type": "code",
   "execution_count": 4,
   "metadata": {},
   "outputs": [
    {
     "name": "stdout",
     "output_type": "stream",
     "text": [
      "Too many arguments! \n"
     ]
    }
   ],
   "source": [
    "#!/usr/bin/env python3 \n",
    "# -*- coding: utf-8 -*-\n",
    "\n",
    "' a test module ' # 任何模块代码的第一个字符串都被视为模块的文档注释\n",
    "\n",
    "__author__ = 'Shawn Chan' # 使用__author__变量把作者写进去，告诉大家作者是谁\n",
    "\n",
    "import sys # 导入 sys 模块\n",
    "\n",
    "def test() :\n",
    "    args = sys.argv\n",
    "    if len(args) == 1 :\n",
    "        print( 'Hello World' )\n",
    "    elif len(args) == 2 :\n",
    "        print( 'Hello %s!' % args[1] )\n",
    "    else :\n",
    "        print( 'Too many arguments! ')\n",
    "\n",
    "if __name__ == '__main__' :\n",
    "    test()"
   ]
  },
  {
   "cell_type": "code",
   "execution_count": 5,
   "metadata": {
    "collapsed": true
   },
   "outputs": [],
   "source": [
    "# sys模块有一个argv变量，用list存储了命令行的所有参数\n",
    "# argv至少有一个元素，因为第一个参数永远是该.py文件的名称，例如：\n",
    "# 运行python3 hello.py获得的sys.argv就是['hello.py']\n",
    "# 运行python3 hello.py Shawn 获得的sys.argv就是['hello.py', 'Shawn]"
   ]
  },
  {
   "cell_type": "code",
   "execution_count": 6,
   "metadata": {
    "collapsed": true
   },
   "outputs": [],
   "source": [
    "# =====================分割线====================="
   ]
  },
  {
   "cell_type": "code",
   "execution_count": 7,
   "metadata": {
    "collapsed": true
   },
   "outputs": [],
   "source": [
    "# 作用域\n",
    "# 模块中有很多变量，通过前缀 \"_\" 来实现模块内部使用"
   ]
  },
  {
   "cell_type": "code",
   "execution_count": 8,
   "metadata": {
    "collapsed": true
   },
   "outputs": [],
   "source": [
    "# \"__xxx__\" 双下划线开头和结尾的为特殊变量，自己的变量要避免这样的命名\n",
    "# \"_xxx\" 或 \"__xxx\" 这样的变量就是私有的，不应该被外部直接引用"
   ]
  },
  {
   "cell_type": "code",
   "execution_count": 9,
   "metadata": {
    "collapsed": true
   },
   "outputs": [],
   "source": [
    "# 例子\n",
    "def _private_1(name):\n",
    "    return 'Hello, %s' % name\n",
    "\n",
    "def _private_2(name):\n",
    "    return \"Hi, %s\" % name\n",
    "\n",
    "def greeting(name):\n",
    "    if len(name) > 3:\n",
    "        return _private_1(name)\n",
    "    else :\n",
    "        return _private_2(name)"
   ]
  },
  {
   "cell_type": "code",
   "execution_count": 10,
   "metadata": {
    "collapsed": true
   },
   "outputs": [],
   "source": [
    "# 模块中公开了 greeting() 函数，内部用 private隐藏起来\n",
    "# 这样就不用关心内部的private函数细节了"
   ]
  },
  {
   "cell_type": "code",
   "execution_count": 11,
   "metadata": {
    "collapsed": true
   },
   "outputs": [],
   "source": [
    "# =====================分割线====================="
   ]
  },
  {
   "cell_type": "code",
   "execution_count": null,
   "metadata": {
    "collapsed": true
   },
   "outputs": [],
   "source": [
    "# "
   ]
  }
 ],
 "metadata": {
  "kernelspec": {
   "display_name": "Python 3",
   "language": "python",
   "name": "python3"
  },
  "language_info": {
   "codemirror_mode": {
    "name": "ipython",
    "version": 3
   },
   "file_extension": ".py",
   "mimetype": "text/x-python",
   "name": "python",
   "nbconvert_exporter": "python",
   "pygments_lexer": "ipython3",
   "version": "3.6.1"
  }
 },
 "nbformat": 4,
 "nbformat_minor": 2
}
