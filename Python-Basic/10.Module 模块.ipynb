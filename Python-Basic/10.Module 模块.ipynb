{
 "cells": [
  {
   "cell_type": "code",
   "execution_count": 1,
   "metadata": {
    "collapsed": true
   },
   "outputs": [],
   "source": [
    "# 一个abc.py的文件就是一个名字叫abc的模块（Module）\n",
    "# 一个xyz.py的文件就是一个名字叫xyz的模块\n",
    "# 新建一个文件夹，文件夹内包含 __init__.py，放入不同的模块\n",
    "# 这样的文件夹称为 一个包（Package）\n",
    "# 包结构可以有层级，但是每个包下必须要包含一个名为 __init__.py 的文件"
   ]
  },
  {
   "cell_type": "code",
   "execution_count": 2,
   "metadata": {
    "collapsed": true
   },
   "outputs": [],
   "source": [
    "# Python内置很多模块，如 sys 如下例子：\n",
    "# 第1行和第2行是标准注释，第1行注释可以让这个文件直接在Unix/Linux/Mac上运行\n",
    "# 第2行注释表示.py文件本身使用标准UTF-8编码；"
   ]
  },
  {
   "cell_type": "code",
   "execution_count": 4,
   "metadata": {},
   "outputs": [
    {
     "name": "stdout",
     "output_type": "stream",
     "text": [
      "Too many arguments! \n"
     ]
    }
   ],
   "source": [
    "#!/usr/bin/env python3 \n",
    "# -*- coding: utf-8 -*-\n",
    "\n",
    "' a test module ' # 任何模块代码的第一个字符串都被视为模块的文档注释\n",
    "\n",
    "__author__ = 'Shawn Chan' # 使用__author__变量把作者写进去，告诉大家作者是谁\n",
    "\n",
    "import sys # 导入 sys 模块\n",
    "\n",
    "def test() :\n",
    "    args = sys.argv\n",
    "    if len(args) == 1 :\n",
    "        print( 'Hello World' )\n",
    "    elif len(args) == 2 :\n",
    "        print( 'Hello %s!' % args[1] )\n",
    "    else :\n",
    "        print( 'Too many arguments! ')\n",
    "\n",
    "if __name__ == '__main__' :\n",
    "    test()"
   ]
  },
  {
   "cell_type": "code",
   "execution_count": 5,
   "metadata": {
    "collapsed": true
   },
   "outputs": [],
   "source": [
    "# sys模块有一个argv变量，用list存储了命令行的所有参数\n",
    "# argv至少有一个元素，因为第一个参数永远是该.py文件的名称，例如：\n",
    "# 运行python3 hello.py获得的sys.argv就是['hello.py']\n",
    "# 运行python3 hello.py Shawn 获得的sys.argv就是['hello.py', 'Shawn']"
   ]
  },
  {
   "cell_type": "code",
   "execution_count": 6,
   "metadata": {
    "collapsed": true
   },
   "outputs": [],
   "source": [
    "# =====================分割线====================="
   ]
  },
  {
   "cell_type": "code",
   "execution_count": 7,
   "metadata": {
    "collapsed": true
   },
   "outputs": [],
   "source": [
    "# 作用域\n",
    "# 模块中有很多变量，通过前缀 \"_\" 来实现模块内部使用"
   ]
  },
  {
   "cell_type": "code",
   "execution_count": 8,
   "metadata": {
    "collapsed": true
   },
   "outputs": [],
   "source": [
    "# \"__xxx__\" 双下划线开头和结尾的为特殊变量，自己的变量要避免这样的命名\n",
    "# \"_xxx\" 或 \"__xxx\" 这样的变量就是私有的，不应该被外部直接引用"
   ]
  },
  {
   "cell_type": "code",
   "execution_count": 9,
   "metadata": {
    "collapsed": true
   },
   "outputs": [],
   "source": [
    "# 例子\n",
    "def _private_1(name):\n",
    "    return 'Hello, %s' % name\n",
    "\n",
    "def _private_2(name):\n",
    "    return \"Hi, %s\" % name\n",
    "\n",
    "def greeting(name):\n",
    "    if len(name) > 3:\n",
    "        return _private_1(name)\n",
    "    else :\n",
    "        return _private_2(name)"
   ]
  },
  {
   "cell_type": "code",
   "execution_count": 10,
   "metadata": {
    "collapsed": true
   },
   "outputs": [],
   "source": [
    "# 模块中公开了 greeting() 函数，内部用 private隐藏起来\n",
    "# 这样就不用关心内部的private函数细节了"
   ]
  },
  {
   "cell_type": "code",
   "execution_count": 11,
   "metadata": {
    "collapsed": true
   },
   "outputs": [],
   "source": [
    "# =====================分割线====================="
   ]
  },
  {
   "cell_type": "code",
   "execution_count": 1,
   "metadata": {
    "collapsed": true
   },
   "outputs": [],
   "source": [
    "# install Pillow lib\n",
    "# >> pip3 install Pillow"
   ]
  },
  {
   "cell_type": "code",
   "execution_count": 2,
   "metadata": {
    "collapsed": true
   },
   "outputs": [],
   "source": [
    "# After installing Pillow, you may use it"
   ]
  },
  {
   "cell_type": "code",
   "execution_count": 6,
   "metadata": {},
   "outputs": [
    {
     "name": "stdout",
     "output_type": "stream",
     "text": [
      "PNG (280, 306) RGB\n"
     ]
    }
   ],
   "source": [
    "from PIL import Image\n",
    "im = Image.open('test.png') # a pic named test.png should be in this dir\n",
    "print( im.format, im.size, im.mode )\n",
    "im.thumbnail((200, 100))\n",
    "im.save('thumb.jpg', 'JPEG')"
   ]
  },
  {
   "cell_type": "code",
   "execution_count": 7,
   "metadata": {
    "collapsed": true
   },
   "outputs": [],
   "source": [
    "# 当我们试图加载一个模块时，Python会在指定的路径下搜索对应的.py文件\n",
    "# 如果找不到，就会报错："
   ]
  },
  {
   "cell_type": "code",
   "execution_count": 8,
   "metadata": {},
   "outputs": [
    {
     "ename": "ModuleNotFoundError",
     "evalue": "No module named 'mymodule'",
     "output_type": "error",
     "traceback": [
      "\u001b[0;31m---------------------------------------------------------------------------\u001b[0m",
      "\u001b[0;31mModuleNotFoundError\u001b[0m                       Traceback (most recent call last)",
      "\u001b[0;32m<ipython-input-8-ee922d5124fb>\u001b[0m in \u001b[0;36m<module>\u001b[0;34m()\u001b[0m\n\u001b[0;32m----> 1\u001b[0;31m \u001b[0;32mimport\u001b[0m \u001b[0mmymodule\u001b[0m\u001b[0;34m\u001b[0m\u001b[0m\n\u001b[0m",
      "\u001b[0;31mModuleNotFoundError\u001b[0m: No module named 'mymodule'"
     ]
    }
   ],
   "source": [
    "import mymodule"
   ]
  },
  {
   "cell_type": "code",
   "execution_count": 9,
   "metadata": {
    "collapsed": true
   },
   "outputs": [],
   "source": [
    "# 默认情况下，Python解释器会搜索当前目录、所有已安装的内置模块和第三方模块\n",
    "# 搜索路径存放在sys模块的path变量中"
   ]
  },
  {
   "cell_type": "code",
   "execution_count": 10,
   "metadata": {},
   "outputs": [
    {
     "data": {
      "text/plain": [
       "['',\n",
       " '/opt/ros/jade/lib/python2.7/dist-packages',\n",
       " '/home/shwan/anaconda3/lib/python36.zip',\n",
       " '/home/shwan/anaconda3/lib/python3.6',\n",
       " '/home/shwan/anaconda3/lib/python3.6/lib-dynload',\n",
       " '/home/shwan/anaconda3/lib/python3.6/site-packages',\n",
       " '/home/shwan/anaconda3/lib/python3.6/site-packages/Sphinx-1.5.6-py3.6.egg',\n",
       " '/home/shwan/anaconda3/lib/python3.6/site-packages/setuptools-27.2.0-py3.6.egg',\n",
       " '/home/shwan/anaconda3/lib/python3.6/site-packages/IPython/extensions',\n",
       " '/home/shwan/.ipython']"
      ]
     },
     "execution_count": 10,
     "metadata": {},
     "output_type": "execute_result"
    }
   ],
   "source": [
    "import sys\n",
    "sys.path"
   ]
  },
  {
   "cell_type": "code",
   "execution_count": 11,
   "metadata": {
    "collapsed": true
   },
   "outputs": [],
   "source": [
    "# 如果我们要添加自己的搜索目录\n",
    "# 直接修改sys.path，添加要搜索的目录：\n",
    "sys.path.append('/home/shwan/anaconda3/lib')"
   ]
  }
 ],
 "metadata": {
  "kernelspec": {
   "display_name": "Python 3",
   "language": "python",
   "name": "python3"
  },
  "language_info": {
   "codemirror_mode": {
    "name": "ipython",
    "version": 3
   },
   "file_extension": ".py",
   "mimetype": "text/x-python",
   "name": "python",
   "nbconvert_exporter": "python",
   "pygments_lexer": "ipython3",
   "version": "3.6.1"
  }
 },
 "nbformat": 4,
 "nbformat_minor": 2
}
