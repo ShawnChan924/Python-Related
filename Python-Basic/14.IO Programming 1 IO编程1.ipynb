{
 "cells": [
  {
   "cell_type": "code",
   "execution_count": 1,
   "metadata": {
    "collapsed": true
   },
   "outputs": [],
   "source": [
    "# 文件读写"
   ]
  },
  {
   "cell_type": "code",
   "execution_count": 2,
   "metadata": {
    "collapsed": true
   },
   "outputs": [],
   "source": [
    "# 在磁盘上读写文件的功能都是由操作系统提供的\n",
    "# 现代操作系统不允许普通的程序直接操作磁盘\n",
    "# 读写文件就是请求操作系统打开一个文件对象\n",
    "# 通过操作系统提供的接口从这个文件对象中读取数据（读文件），或者把数据写入这个文件对象（写文件）"
   ]
  },
  {
   "cell_type": "code",
   "execution_count": 9,
   "metadata": {},
   "outputs": [],
   "source": [
    "# open()函数\n",
    "f = open('./README.md', 'r')"
   ]
  },
  {
   "cell_type": "code",
   "execution_count": 10,
   "metadata": {},
   "outputs": [
    {
     "ename": "FileNotFoundError",
     "evalue": "[Errno 2] No such file or directory: './README1.md'",
     "output_type": "error",
     "traceback": [
      "\u001b[0;31m---------------------------------------------------------------------------\u001b[0m",
      "\u001b[0;31mFileNotFoundError\u001b[0m                         Traceback (most recent call last)",
      "\u001b[0;32m<ipython-input-10-58914b490b78>\u001b[0m in \u001b[0;36m<module>\u001b[0;34m()\u001b[0m\n\u001b[1;32m      1\u001b[0m \u001b[0;31m# 如果文件不存在，open()函数就会抛出一个IOError的错误\u001b[0m\u001b[0;34m\u001b[0m\u001b[0;34m\u001b[0m\u001b[0m\n\u001b[0;32m----> 2\u001b[0;31m \u001b[0mf\u001b[0m \u001b[0;34m=\u001b[0m \u001b[0mopen\u001b[0m\u001b[0;34m(\u001b[0m\u001b[0;34m'./README1.md'\u001b[0m\u001b[0;34m,\u001b[0m \u001b[0;34m'r'\u001b[0m\u001b[0;34m)\u001b[0m\u001b[0;34m\u001b[0m\u001b[0m\n\u001b[0m",
      "\u001b[0;31mFileNotFoundError\u001b[0m: [Errno 2] No such file or directory: './README1.md'"
     ]
    }
   ],
   "source": [
    "# 如果文件不存在，open()函数就会抛出一个IOError的错误\n",
    "f = open('./README1.md', 'r')"
   ]
  },
  {
   "cell_type": "code",
   "execution_count": 11,
   "metadata": {},
   "outputs": [
    {
     "data": {
      "text/plain": [
       "'# Python-Basic\\nThis floder is about python basic knowledge.\\nRefer to : [python tutorial](https://www.liaoxuefeng.com/wiki/0014316089557264a6b348958f449949df42a6d3a2e542c000)\\n'"
      ]
     },
     "execution_count": 11,
     "metadata": {},
     "output_type": "execute_result"
    }
   ],
   "source": [
    "# read()函数\n",
    "# 如果文件打开成功，接下来，调用read()方法可以一次读取文件的全部内容\n",
    "# 内容用一个 str 对象表示\n",
    "f.read()"
   ]
  },
  {
   "cell_type": "code",
   "execution_count": 12,
   "metadata": {
    "collapsed": true
   },
   "outputs": [],
   "source": [
    "# close()函数\n",
    "# 文件使用完毕后必须关闭，因为文件对象会占用操作系统的资源\n",
    "# 操作系统同一时间能打开的文件数量也是有限的\\\n",
    "f.close()"
   ]
  },
  {
   "cell_type": "code",
   "execution_count": 13,
   "metadata": {},
   "outputs": [
    {
     "name": "stdout",
     "output_type": "stream",
     "text": [
      "# Python-Basic\n",
      "This floder is about python basic knowledge.\n",
      "Refer to : [python tutorial](https://www.liaoxuefeng.com/wiki/0014316089557264a6b348958f449949df42a6d3a2e542c000)\n",
      "\n"
     ]
    }
   ],
   "source": [
    "# 为了保证无论是否出错都能正确地关闭文件，我们可以使用try ... finally来实现\n",
    "try :\n",
    "    f = open('./README.md')\n",
    "    print(f.read())\n",
    "finally:\n",
    "    if f :\n",
    "        f.close()"
   ]
  },
  {
   "cell_type": "code",
   "execution_count": 15,
   "metadata": {},
   "outputs": [
    {
     "name": "stdout",
     "output_type": "stream",
     "text": [
      "# Python-Basic\n",
      "This floder is about python basic knowledge.\n",
      "Refer to : [python tutorial](https://www.liaoxuefeng.com/wiki/0014316089557264a6b348958f449949df42a6d3a2e542c000)\n",
      "\n"
     ]
    }
   ],
   "source": [
    "# 每次都这么写实在太繁琐，所以，Python引入了with语句来自动帮我们调用close()方法\n",
    "# 和前面的try ... finally是一样的，但是代码更佳简洁，并且不必调用f.close()方法\n",
    "with open('./README.md', 'r') as f:\n",
    "    print(f.read())"
   ]
  },
  {
   "cell_type": "code",
   "execution_count": 18,
   "metadata": {},
   "outputs": [
    {
     "name": "stdout",
     "output_type": "stream",
     "text": [
      "# Python-Basic\n",
      "This floder is about python basic knowledge.\n",
      "Refer to : [python tutorial](https://www.liaoxuefeng.com/wiki/0014316089557264a6b348958f449949df42a6d3a2e542c000)\n"
     ]
    }
   ],
   "source": [
    "# 如果文件很小，read()一次性读取最方便\n",
    "# 如果不能确定文件大小，反复调用read(size)比较保险；\n",
    "# 如果是配置文件，调用readlines()最方便\n",
    "with open('./README.md', 'r') as f:\n",
    "    for line in f.readlines():\n",
    "        print(line.strip()) # 把末尾的'\\n'删掉"
   ]
  },
  {
   "cell_type": "code",
   "execution_count": 22,
   "metadata": {},
   "outputs": [
    {
     "name": "stdout",
     "output_type": "stream",
     "text": [
      "['# Python-Basic\\n', 'This floder is about python basic knowledge.\\n', 'Refer to : [python tutorial](https://www.liaoxuefeng.com/wiki/0014316089557264a6b348958f449949df42a6d3a2e542c000)\\n']\n"
     ]
    }
   ],
   "source": [
    "f = open('./README.md', 'r')\n",
    "print(f.readlines())\n",
    "f.close()"
   ]
  },
  {
   "cell_type": "code",
   "execution_count": 23,
   "metadata": {
    "collapsed": true
   },
   "outputs": [],
   "source": [
    "# 二进制文件\n",
    "# 要读取二进制文件，比如图片、视频等等，用'rb'模式打开文件\n",
    "# f = open('./test.jpg', 'rb')"
   ]
  },
  {
   "cell_type": "code",
   "execution_count": 27,
   "metadata": {},
   "outputs": [],
   "source": [
    "# 字符编码\n",
    "# 读取非UTF-8编码的文本文件，需要给open()函数传入encoding参数\n",
    "# f = open('./README_cn.md', 'r', encoding='GBK')\n",
    "# f.read()"
   ]
  },
  {
   "cell_type": "code",
   "execution_count": 28,
   "metadata": {},
   "outputs": [
    {
     "data": {
      "text/plain": [
       "'# Python鐩稿叧\\n鐩褰曠殑鍐呭规槸Python鍩虹鐭ヨ瘑\\n鍙傝冭嚜锛歔python鏁欑▼](https://www.liaoxuefeng.com/wiki/0014316089557264a6b348958f449949df42a6d3a2e542c000)\\n'"
      ]
     },
     "execution_count": 28,
     "metadata": {},
     "output_type": "execute_result"
    }
   ],
   "source": [
    "# 你可能会遇到UnicodeDecodeError，因为在文本文件中可能夹杂了一些非法编码的字符\n",
    "# open()函数还接收一个errors参数，表示如果遇到编码错误后如何处理\n",
    "# 最简单的方式是直接忽略\n",
    "f = open('./README_cn.md', 'r', encoding='gbk', errors='ignore')\n",
    "f.read()"
   ]
  },
  {
   "cell_type": "code",
   "execution_count": 29,
   "metadata": {
    "collapsed": true
   },
   "outputs": [],
   "source": [
    "# 写文件\n",
    "# 写文件和读文件是一样的，唯一区别是调用open()函数时\n",
    "# 传入标识符'w'或者'wb'表示写文本文件或写二进制文件"
   ]
  },
  {
   "cell_type": "code",
   "execution_count": 30,
   "metadata": {
    "collapsed": true
   },
   "outputs": [],
   "source": [
    "f = open('./README.md', 'w')\n",
    "f.write('Hello, Python!')\n",
    "f.close()"
   ]
  },
  {
   "cell_type": "code",
   "execution_count": 31,
   "metadata": {
    "collapsed": true
   },
   "outputs": [],
   "source": [
    "# 当我们写文件时，操作系统往往不会立刻把数据写入磁盘，而是放到内存缓存起来，空闲的时候再慢慢写入\n",
    "# 只有调用close()方法时，操作系统才保证把没有写入的数据全部写入磁盘\n",
    "# 忘记调用close()的后果是数据可能只写了一部分到磁盘，剩下的丢失了\n",
    "# 所以，还是用with语句来得保险\n",
    "# with open('./README.md', 'w') as f:\n",
    "#     f.write('Hello, Python!')"
   ]
  },
  {
   "cell_type": "code",
   "execution_count": null,
   "metadata": {
    "collapsed": true
   },
   "outputs": [],
   "source": [
    "# 小结\n",
    "# 在Python中，文件读写是通过open()函数打开的文件对象完成的。\n",
    "# 使用with语句操作文件IO是个好习惯。"
   ]
  }
 ],
 "metadata": {
  "kernelspec": {
   "display_name": "Python 3",
   "language": "python",
   "name": "python3"
  },
  "language_info": {
   "codemirror_mode": {
    "name": "ipython",
    "version": 3
   },
   "file_extension": ".py",
   "mimetype": "text/x-python",
   "name": "python",
   "nbconvert_exporter": "python",
   "pygments_lexer": "ipython3",
   "version": "3.6.1"
  }
 },
 "nbformat": 4,
 "nbformat_minor": 2
}
