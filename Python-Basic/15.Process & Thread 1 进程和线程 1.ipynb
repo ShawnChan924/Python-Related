{
 "cells": [
  {
   "cell_type": "code",
   "execution_count": 1,
   "metadata": {
    "collapsed": true
   },
   "outputs": [],
   "source": [
    "import os"
   ]
  },
  {
   "cell_type": "code",
   "execution_count": 2,
   "metadata": {},
   "outputs": [
    {
     "name": "stdout",
     "output_type": "stream",
     "text": [
      "Process (2719) start...\n",
      "I (2719) just created a child process (2787).\n",
      "I am child process (2787) and my parent is 2719\n"
     ]
    }
   ],
   "source": [
    "print('Process (%s) start...' % os.getpid())\n",
    "\n",
    "pid = os.fork() \n",
    "if pid == 0:\n",
    "    print('I am child process (%s) and my parent is %s' % (os.getpid(), os.getppid()))\n",
    "else:\n",
    "    print('I (%s) just created a child process (%s).' % (os.getpid(), pid))"
   ]
  },
  {
   "cell_type": "code",
   "execution_count": 3,
   "metadata": {
    "collapsed": true
   },
   "outputs": [],
   "source": [
    "# 有了fork调用，一个进程接到新任务时，就可以复制一个子进程来处理新任务"
   ]
  },
  {
   "cell_type": "code",
   "execution_count": 4,
   "metadata": {
    "collapsed": true
   },
   "outputs": [],
   "source": [
    "# 在Windows下使用multiprocessing模块中的Process类来代表一个进程对象"
   ]
  },
  {
   "cell_type": "code",
   "execution_count": 5,
   "metadata": {
    "collapsed": true
   },
   "outputs": [],
   "source": [
    "from multiprocessing import Process\n",
    "import os "
   ]
  },
  {
   "cell_type": "code",
   "execution_count": 7,
   "metadata": {},
   "outputs": [
    {
     "name": "stdout",
     "output_type": "stream",
     "text": [
      "Parent process 2719. \n",
      "Child process will start.\n",
      "Run child process test (3994)...\n",
      "Child process end.\n"
     ]
    }
   ],
   "source": [
    "# 子进程要执行的代码\n",
    "def run_proc(name):\n",
    "    print('Run child process %s (%s)...' % (name, os.getpid()))\n",
    "    \n",
    "print('Parent process %s. ' % os.getpid())\n",
    "p = Process(target=run_proc, args=('test',))\n",
    "print('Child process will start.')\n",
    "p.start()\n",
    "p.join()\n",
    "print('Child process end.')"
   ]
  },
  {
   "cell_type": "code",
   "execution_count": 8,
   "metadata": {
    "collapsed": true
   },
   "outputs": [],
   "source": [
    "# 启动大量子线程，可以用线程池的方式创建"
   ]
  },
  {
   "cell_type": "code",
   "execution_count": 10,
   "metadata": {},
   "outputs": [
    {
     "name": "stdout",
     "output_type": "stream",
     "text": [
      "Parent process 2719.\n",
      "Run task 1 (4746)...\n",
      "Run task 0 (4747)...\n",
      "Run task 4 (4750)...\n",
      "Run task 2 (4749)...\n",
      "Run task 3 (4748)...\n",
      "Waiting for all subprocesse done...\n",
      "Task 2 runs 0.26 seconds.\n",
      "Task 1 runs 0.71 seconds.\n",
      "Task 4 runs 0.78 seconds.\n",
      "Task 0 runs 1.21 seconds.\n",
      "Task 3 runs 1.51 seconds.\n",
      "All subprocesses done.\n"
     ]
    }
   ],
   "source": [
    "from multiprocessing import Pool\n",
    "import os, time, random\n",
    "\n",
    "def long_time_task(name):\n",
    "    print('Run task %s (%s)...' % (name, os.getpid()))\n",
    "    start = time.time()\n",
    "    time.sleep(random.random() * 3)\n",
    "    end = time.time()\n",
    "    print('Task %s runs %0.2f seconds.' %(name, (end-start)))\n",
    "    \n",
    "print('Parent process %s.' % os.getpid())\n",
    "p = Pool(5)\n",
    "for i in range(5):\n",
    "    p.apply_async(long_time_task, args=(i,))\n",
    "print('Waiting for all subprocesse done...')\n",
    "p.close()\n",
    "p.join()\n",
    "print('All subprocesses done.')"
   ]
  },
  {
   "cell_type": "code",
   "execution_count": 11,
   "metadata": {
    "collapsed": true
   },
   "outputs": [],
   "source": [
    "# Pool对象调用join()方法会等待所有子进程执完毕，而且join()调用前必须先调用close()，调用close()后不能继续添加新的进程\n",
    "# p = Pool() 默认大小为CPU的核数，如果不传入5，则会看到'Run task ? (????)' 不同时执行，会出现等待的效果，可以将5去掉重新执行看效果"
   ]
  },
  {
   "cell_type": "code",
   "execution_count": 12,
   "metadata": {
    "collapsed": true
   },
   "outputs": [],
   "source": [
    "# 子进程 使用subprocess模块可以启动一个子线程，然后控制其输入输出"
   ]
  },
  {
   "cell_type": "code",
   "execution_count": 15,
   "metadata": {},
   "outputs": [
    {
     "name": "stdout",
     "output_type": "stream",
     "text": [
      "$ nslookup www.python.org\n",
      "Exit code: 0\n"
     ]
    }
   ],
   "source": [
    "import subprocess\n",
    "\n",
    "print('$ nslookup www.python.org')\n",
    "r = subprocess.call(['nslookup', 'www.python.org'])\n",
    "print('Exit code:', r)"
   ]
  },
  {
   "cell_type": "code",
   "execution_count": 16,
   "metadata": {
    "collapsed": true
   },
   "outputs": [],
   "source": [
    "# 进程间通信\n",
    "# Process之间有多种通信方式，Python的multiProcessing模块封装了底层的机制，提供Queue、Pipes等多种方式狡猾数据"
   ]
  },
  {
   "cell_type": "code",
   "execution_count": 17,
   "metadata": {
    "collapsed": true
   },
   "outputs": [],
   "source": [
    "from multiprocessing import Process, Queue\n",
    "import os, time, random"
   ]
  },
  {
   "cell_type": "code",
   "execution_count": 23,
   "metadata": {
    "collapsed": true
   },
   "outputs": [],
   "source": [
    "# 写数据进程\n",
    "def write(q):\n",
    "    print('Process to write: %s' % os.getpid())\n",
    "    for value in ['A', 'B', 'C']:\n",
    "        print('Put %s to queue...' % value)\n",
    "        q.put(value)\n",
    "        time.sleep(random.random())\n",
    "        \n",
    "def read(q):\n",
    "    print('Process to read: %s' % os.getpid())\n",
    "    while True:\n",
    "        value = q.get(True)\n",
    "        print('Get %s from queue.' %value)"
   ]
  },
  {
   "cell_type": "code",
   "execution_count": 24,
   "metadata": {
    "scrolled": true
   },
   "outputs": [
    {
     "name": "stdout",
     "output_type": "stream",
     "text": [
      "Process to write: 6756\n",
      "Put A to queue...\n",
      "Process to read: 6759\n",
      "Get A from queue.\n",
      "Put B to queue...\n",
      "Get B from queue.\n",
      "Put C to queue...\n",
      "Get C from queue.\n"
     ]
    }
   ],
   "source": [
    "# 父进程创建Queue，并传给各个子进程\n",
    "q = Queue()\n",
    "pw = Process(target=write, args=(q,))\n",
    "pr = Process(target=read, args=(q,))\n",
    "# 启动子进程pw,写入：\n",
    "pw.start()\n",
    "# 启动子进程pr,读取：\n",
    "pr.start()\n",
    "# 等待pw结束\n",
    "pw.join()\n",
    "# pr是死循环，只能强制终止\n",
    "pr.terminate()"
   ]
  },
  {
   "cell_type": "code",
   "execution_count": 25,
   "metadata": {
    "collapsed": true
   },
   "outputs": [],
   "source": [
    "# 进程小结\n",
    "# 1.在Unix/Linux/Mac下，使用fork()调用实现多进程\n",
    "# 2.要实现跨平台的多进程，可以使用multiprocessing模块\n",
    "# 3.进程间的通信通过 Queue, Pipes等实现"
   ]
  },
  {
   "cell_type": "code",
   "execution_count": 26,
   "metadata": {
    "collapsed": true
   },
   "outputs": [],
   "source": [
    "# Python支持多线程变成，提供了两个模块：_thread 和 threading，后者对前者进行了封装，使用 threading 即可。\n",
    "# 启动线程的方式：1.把函数传入Thread实例，然后调用start()"
   ]
  },
  {
   "cell_type": "code",
   "execution_count": 27,
   "metadata": {
    "collapsed": true
   },
   "outputs": [],
   "source": [
    "import time, threading"
   ]
  },
  {
   "cell_type": "code",
   "execution_count": 29,
   "metadata": {},
   "outputs": [
    {
     "name": "stdout",
     "output_type": "stream",
     "text": [
      "thread MainThread is running...\n",
      "thread LoopThread is running...\n",
      "thread LoopThread >>> 1\n",
      "thread LoopThread >>> 2\n",
      "thread LoopThread >>> 3\n",
      "thread LoopThread >>> 4\n",
      "thread LoopThread >>> 5\n",
      "thread LoopThread ended.\n",
      "thread MainThread ended.\n"
     ]
    }
   ],
   "source": [
    "def loop():\n",
    "    print('thread %s is running...' % threading.current_thread().name)\n",
    "    n = 0\n",
    "    while n < 5:\n",
    "        n += 1\n",
    "        print('thread %s >>> %s' % (threading.current_thread().name, n))\n",
    "        time.sleep(1)\n",
    "    print('thread %s ended.' % threading.current_thread().name)\n",
    "\n",
    "print('thread %s is running...' % threading.current_thread().name)\n",
    "t = threading.Thread(target = loop, name='LoopThread')\n",
    "t.start()\n",
    "t.join()\n",
    "print('thread %s ended.' % threading.current_thread().name)"
   ]
  },
  {
   "cell_type": "code",
   "execution_count": 30,
   "metadata": {
    "collapsed": true
   },
   "outputs": [],
   "source": [
    "# threading模块有个current_thread()函数，他返回当前线程的实例。\n",
    "# 主线程的名字叫 MainThread，子线程的名字在创建时指定，如果没指定，系统默认给Thread-1，Thread-2"
   ]
  },
  {
   "cell_type": "code",
   "execution_count": 31,
   "metadata": {
    "collapsed": true
   },
   "outputs": [],
   "source": [
    "# 多线程的危险之处：共享数据\n",
    "# 所有变量由所有线程共享，任何一个变量都可以被任何一个线程修改，因此，线程之间共享数据会出现同时修改数据的可能性。\n",
    "# 所以要引入线程锁 Lock"
   ]
  },
  {
   "cell_type": "code",
   "execution_count": 37,
   "metadata": {},
   "outputs": [
    {
     "name": "stdout",
     "output_type": "stream",
     "text": [
      "16\n"
     ]
    }
   ],
   "source": [
    "# 以银行存款为例\n",
    "import time, threading\n",
    "\n",
    "# 假定你的银行存款为balance\n",
    "balance = 0\n",
    "\n",
    "def change_it(n) :\n",
    "    global balance\n",
    "    balance = balance + n\n",
    "    balance = balance - n\n",
    "    # 理论上正常执行下来 balance必然为0\n",
    "    \n",
    "def run_thread(n):\n",
    "    for i in range(1000000):\n",
    "        change_it(n)\n",
    "        \n",
    "t1 = threading.Thread(target=run_thread, args=(5,)) # balance + 5 然后 - 5\n",
    "t2 = threading.Thread(target=run_thread, args=(8,)) # balacne + 8 然后 - 8\n",
    "t1.start()\n",
    "t2.start()\n",
    "t1.join()\n",
    "t2.join()\n",
    "print(balance)"
   ]
  },
  {
   "cell_type": "code",
   "execution_count": 38,
   "metadata": {
    "collapsed": true
   },
   "outputs": [],
   "source": [
    "# 由于线程的调用是由操作系统决定的，一条语句在转换为机器语言是会变成若干条语句\n",
    "# 因此无法保证，线程t1在对balance做更改时，t2线程不对balance做更改\n",
    "# 所以要确保一个线程在修改balance时，其他线程一定不能修改balance"
   ]
  },
  {
   "cell_type": "code",
   "execution_count": 39,
   "metadata": {
    "collapsed": true
   },
   "outputs": [],
   "source": [
    "# 创建一把锁，然所有线程公用，只有一个线程能拥有锁，其他线程只有等待到锁释放时才能使用"
   ]
  },
  {
   "cell_type": "code",
   "execution_count": 40,
   "metadata": {},
   "outputs": [
    {
     "name": "stdout",
     "output_type": "stream",
     "text": [
      "0\n"
     ]
    }
   ],
   "source": [
    "# 以银行存款为例\n",
    "import time, threading\n",
    "\n",
    "# 假定你的银行存款为balance\n",
    "balance = 0\n",
    "lock = threading.Lock()\n",
    "\n",
    "def change_it(n) :\n",
    "    global balance\n",
    "    balance = balance + n\n",
    "    balance = balance - n\n",
    "    # 理论上正常执行下来 balance必然为0\n",
    "    \n",
    "def run_thread(n):\n",
    "    for i in range(1000000):\n",
    "        # 获取锁\n",
    "        lock.acquire()\n",
    "        try:\n",
    "            change_it(n)\n",
    "        finally:\n",
    "            lock.release()\n",
    "        \n",
    "t1 = threading.Thread(target=run_thread, args=(5,)) # balance + 5 然后 - 5\n",
    "t2 = threading.Thread(target=run_thread, args=(8,)) # balacne + 8 然后 - 8\n",
    "t1.start()\n",
    "t2.start()\n",
    "t1.join()\n",
    "t2.join()\n",
    "print(balance)"
   ]
  },
  {
   "cell_type": "code",
   "execution_count": 41,
   "metadata": {
    "collapsed": true
   },
   "outputs": [],
   "source": [
    "# 当多个线程同时执行 lock.acquire()时，只有一个线程能成功获取锁，然后继续执行代码，其他线程就继续等待直到获得锁为止\n",
    "# 获得锁的线程用完后一定要释放，否则其他等待锁的线程将永远等待下去，成为死线程。因此使用try...finally确保锁一定会被释放"
   ]
  },
  {
   "cell_type": "code",
   "execution_count": 42,
   "metadata": {
    "collapsed": true
   },
   "outputs": [],
   "source": [
    "# Python一个进程最多占用一个核，与C/Java不同，他们可以建多个线程占用多个CPU\n",
    "# 这是Python的历史遗留问题，一个进程中会有一个GIL（Global Interpreter Lock）用于分配系统资源。\n",
    "# Python多线程充分利用资源的问题，需要通过多进程来解决"
   ]
  },
  {
   "cell_type": "code",
   "execution_count": null,
   "metadata": {
    "collapsed": true
   },
   "outputs": [],
   "source": []
  }
 ],
 "metadata": {
  "kernelspec": {
   "display_name": "Python 3",
   "language": "python",
   "name": "python3"
  },
  "language_info": {
   "codemirror_mode": {
    "name": "ipython",
    "version": 3
   },
   "file_extension": ".py",
   "mimetype": "text/x-python",
   "name": "python",
   "nbconvert_exporter": "python",
   "pygments_lexer": "ipython3",
   "version": "3.6.3"
  }
 },
 "nbformat": 4,
 "nbformat_minor": 2
}
